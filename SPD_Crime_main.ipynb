{
 "cells": [
  {
   "cell_type": "markdown",
   "metadata": {},
   "source": [
    "# Seattle Crime Data Exploration"
   ]
  },
  {
   "cell_type": "markdown",
   "metadata": {
    "collapsed": true
   },
   "source": [
    "- [Introduction and Objective](#Introduction-and-Objective)\n",
    "- [Package Imports](#Package-Imports)\n",
    "- [Crime Data Wrangling](#Crime-Data-Wrangling)\n",
    "    - [Request SPD Crime Data via Open Data API](#Request-SPD-Crime-Data-via-OpenData-API)\n",
    "    - [Transform Data into DataFrame](#Transform-Data-into-DataFrame)\n",
    "    - [Handle Missing Data](#Handle-Missing-Data)\n",
    "    - [Parse DataFrame Columns](#Parse-DataFrame-Columns)\n",
    "    - [Select Consistently Reported Data](#Select-Consistently-Reported-Data)\n",
    "- [Precinct Shape Data Wrangling](#Precinct-Shape-Data-Wrangling)\n",
    "    - [Match Crime Data and Shape Data Discarding Discrepancies](#Match-Crime-Data and-Shape-Data-Discarding-Discrepancies)\n",
    "- [Visualize Data](#Visualize-Data)\n",
    "    - [Choropleth Map](#Choropleth-Map)\n",
    "    - [Bar Plot of Offenses by Beat](#Bar-Plot-of-Offenses-by-Beat)\n",
    "    - [Examine Offense Correlations Across Beats](#Examine-Offense-Correlations-Across-Beats)\n",
    "- [Predictive Modeling I: Assaults Across Beats](#Predictive-Modeling-I:-Assaults-Across-Beats)\n",
    "    - [Least Squares Model and LOOCV Test MSE Estimate](#Least-Squares-Model-and-LOOCV-Test-MSE-Estimate)\n",
    "    - [Lasso Regression Model and LOOCV Test MSE Estimate](#Lasso-Regression-Model-and-LOOCV-Test-MSE-Estimate)\n",
    "    - [Actionable Insights](#Actionable-Insights)\n",
    "- [Predictive Modeling II: Assaults in Time](#Predictive-Modeling-II:-Assaults-in-Time)\n",
    "    - [Visualize Assaults by Month](#Visualize-Assaults-by-Month) \n",
    "    - [Assault Time Series in a Beat](#Visualize-Assault-Time-Series-in-a-Beat)\n",
    "    - [Lag Plot of Assaults in a Beat](#Lag-Plot-of-Assaults-in-a-Beat)\n",
    "    - [Autoregressive Model of Assaults](#Autoregressive-Model-of-Assaults)\n",
    "    - [Auto-Correlations of Assaults in Time](#Auto-Correlations-of-Assaults-in-Time)\n",
    "    - [Autoregressive Model of Assaults](#Autoregressive-Model-of-Assaults)\n",
    "    - [AR Model Fit](#AR-Model-Fit)\n",
    "    - [Actionable Insights](#Actionable-Insights)"
   ]
  },
  {
   "cell_type": "markdown",
   "metadata": {},
   "source": [
    "## Introduction and Objective"
   ]
  },
  {
   "cell_type": "markdown",
   "metadata": {},
   "source": [
    "In this project we will look at crime data from the Seattle Police Dept. The data has three primary features: 1. It contains an offense types (assaults, robberies etc), 2. an incident time (year-month-day-time) and 3. A geographic location specified by latitude and longitude"
   ]
  },
  {
   "cell_type": "markdown",
   "metadata": {},
   "source": [
    "## Package Imports"
   ]
  },
  {
   "cell_type": "code",
   "execution_count": 3,
   "metadata": {
    "collapsed": false
   },
   "outputs": [],
   "source": [
    "# Import os related packages\n",
    "import os\n",
    "import sys\n",
    "import glob\n",
    "\n",
    "# standard packages\n",
    "import requests\n",
    "import simplejson as json\n",
    "import numpy as np\n",
    "import pandas as pd\n",
    "import folium\n",
    "import statsmodels.api as sm\n",
    "\n",
    "# standard tools\n",
    "from collections import defaultdict\n",
    "from datetime import date\n",
    "# Plotting tools\n",
    "from IPython.display import HTML\n",
    "from matplotlib import pyplot as plt\n",
    "from pandas.tools.plotting import lag_plot\n",
    "# sklearn tools\n",
    "from sklearn.linear_model import LinearRegression, RidgeCV, LassoCV\n",
    "from sklearn.cross_validation import cross_val_score\n",
    "# statsmodels tools\n",
    "from statsmodels.tsa.ar_model import AR, ARResults\n",
    "from statsmodels.tsa.stattools import adfuller\n",
    "\n",
    "%matplotlib inline\n",
    "plt.style.use('ggplot') # emulate R's pretty plotting"
   ]
  },
  {
   "cell_type": "markdown",
   "metadata": {},
   "source": [
    "## Data Wrangling"
   ]
  },
  {
   "cell_type": "markdown",
   "metadata": {},
   "source": [
    "### Request SPD Crime Data via Open Data API"
   ]
  },
  {
   "cell_type": "markdown",
   "metadata": {},
   "source": [
    "We are now going to request the latest crime data from Seattle's Open Data API. We will specifically be requesting a json formatted response. Since we are only going to make a single request we do not need to concern ourselves with using an api-key. One would want to do this if you planned on making many request and were concerned about throttling limits (see https://dev.socrata.com/)."
   ]
  },
  {
   "cell_type": "code",
   "execution_count": 5,
   "metadata": {
    "collapsed": false
   },
   "outputs": [
    {
     "name": "stdout",
     "output_type": "stream",
     "text": [
      "Connecting to seattle.gov API Endpoint...\n",
      "Success!\n"
     ]
    }
   ],
   "source": [
    "if not glob.glob('data/data.txt'):\n",
    "    print('Connecting to seattle.gov API Endpoint...')\n",
    "    # Force flush the above print from stdout buffer\n",
    "    sys.stdout.flush()\n",
    "    \n",
    "    # get a json response from the seattle.gov API endpoint\n",
    "    # Note we are using the 'report incident' data not the 'incident response'\n",
    "    #url = \"https://data.seattle.gov/resource/pu5n-trf4.json\"\n",
    "    url = \"https://data.seattle.gov/resource/y7pv-r3kh.json\"\n",
    "    response = requests.get(url)\n",
    "    \n",
    "    # if status code good dump the data to file\n",
    "    if response.status_code == 200:\n",
    "        data = response.json()\n",
    "        with open('data/data.txt', 'w') as outfile:\n",
    "            json.dump(data, outfile)\n",
    "            print('Success!')\n",
    "            \n",
    "    else: print('Http Status Code:', response.status_code)\n",
    "    \n",
    "else:\n",
    "    print('Loading data from file...')\n",
    "    sys.stdout.flush()\n",
    "    # Load the serialized json file obj\n",
    "    with open('data.txt', 'r') as infile:\n",
    "        data = json.load(infile)\n",
    "    print('Loading Complete')"
   ]
  },
  {
   "cell_type": "markdown",
   "metadata": {},
   "source": [
    "### Transform Data into DataFrame "
   ]
  },
  {
   "cell_type": "code",
   "execution_count": 6,
   "metadata": {
    "collapsed": false
   },
   "outputs": [
    {
     "data": {
      "text/plain": [
       "{':@computed_region_kuhn_3gp2': '42',\n",
       " ':@computed_region_q256_3sug': '17919',\n",
       " ':@computed_region_ru88_fbhk': '42',\n",
       " 'census_tract_2000': '9500.2063',\n",
       " 'date_reported': '2011-09-04T04:20:00.000',\n",
       " 'district_sector': 'R',\n",
       " 'general_offense_number': '2011291522',\n",
       " 'hundred_block_location': 'RAINIER AV S / S WALKER ST',\n",
       " 'latitude': '47.583656311',\n",
       " 'location': {'coordinates': [-122.3022, 47.583656], 'type': 'Point'},\n",
       " 'longitude': '-122.302200317',\n",
       " 'month': '9',\n",
       " 'occurred_date_or_date_range_start': '2011-09-04T04:20:00.000',\n",
       " 'offense_code': '3550',\n",
       " 'offense_code_extension': '0',\n",
       " 'offense_type': 'NARC-EQUIPMENT/PARAPHENALIA',\n",
       " 'rms_cdw_id': '985381',\n",
       " 'summarized_offense_description': 'NARCOTICS',\n",
       " 'summary_offense_code': '3500',\n",
       " 'year': '2011',\n",
       " 'zone_beat': 'R2'}"
      ]
     },
     "execution_count": 6,
     "metadata": {},
     "output_type": "execute_result"
    }
   ],
   "source": [
    "# Lets take a look at the first entry in the data dict to see how the data is organized\n",
    "data[0]"
   ]
  },
  {
   "cell_type": "code",
   "execution_count": 7,
   "metadata": {
    "collapsed": false
   },
   "outputs": [],
   "source": [
    "# Define what pieces of data we want for a dataframe\n",
    "columns = ['occurred_date_or_date_range_start', 'summarized_offense_description','zone_beat',\n",
    "           'latitude', 'longitude',]"
   ]
  },
  {
   "cell_type": "code",
   "execution_count": 8,
   "metadata": {
    "collapsed": false
   },
   "outputs": [],
   "source": [
    "# transform the data dict into a list of incidents keeping only pertinent data values\n",
    "data_list = []\n",
    "for incident in data:\n",
    "    data_list.append([incident[column] if column in list(incident.keys()) else np.nan for column in columns])"
   ]
  },
  {
   "cell_type": "code",
   "execution_count": 9,
   "metadata": {
    "collapsed": false
   },
   "outputs": [],
   "source": [
    "# convert the list of incidents to a dataframe object\n",
    "df = pd.DataFrame(data = data_list, columns=columns)\n",
    "df.rename(columns= {'occurred_date_or_date_range_start':'datetime','summarized_offense_description': 'offense',\n",
    "                    'zone_beat':'beat'}, inplace=True)"
   ]
  },
  {
   "cell_type": "code",
   "execution_count": 10,
   "metadata": {
    "collapsed": false
   },
   "outputs": [
    {
     "data": {
      "text/html": [
       "<div>\n",
       "<table border=\"1\" class=\"dataframe\">\n",
       "  <thead>\n",
       "    <tr style=\"text-align: right;\">\n",
       "      <th></th>\n",
       "      <th>datetime</th>\n",
       "      <th>offense</th>\n",
       "      <th>beat</th>\n",
       "      <th>latitude</th>\n",
       "      <th>longitude</th>\n",
       "    </tr>\n",
       "  </thead>\n",
       "  <tbody>\n",
       "    <tr>\n",
       "      <th>0</th>\n",
       "      <td>2011-09-04T04:20:00.000</td>\n",
       "      <td>NARCOTICS</td>\n",
       "      <td>R2</td>\n",
       "      <td>47.583656311</td>\n",
       "      <td>-122.302200317</td>\n",
       "    </tr>\n",
       "    <tr>\n",
       "      <th>1</th>\n",
       "      <td>2011-09-04T05:04:00.000</td>\n",
       "      <td>ASSAULT</td>\n",
       "      <td>L3</td>\n",
       "      <td>47.698345184</td>\n",
       "      <td>-122.277740479</td>\n",
       "    </tr>\n",
       "    <tr>\n",
       "      <th>2</th>\n",
       "      <td>2011-09-04T00:08:00.000</td>\n",
       "      <td>PROPERTY DAMAGE</td>\n",
       "      <td>B2</td>\n",
       "      <td>47.666423798</td>\n",
       "      <td>-122.369682312</td>\n",
       "    </tr>\n",
       "    <tr>\n",
       "      <th>3</th>\n",
       "      <td>2011-03-03T20:30:00.000</td>\n",
       "      <td>CAR PROWL</td>\n",
       "      <td>L2</td>\n",
       "      <td>47.687610626</td>\n",
       "      <td>-122.314315796</td>\n",
       "    </tr>\n",
       "    <tr>\n",
       "      <th>4</th>\n",
       "      <td>2011-08-30T18:00:00.000</td>\n",
       "      <td>CAR PROWL</td>\n",
       "      <td>U1</td>\n",
       "      <td>47.665672302</td>\n",
       "      <td>-122.304534912</td>\n",
       "    </tr>\n",
       "  </tbody>\n",
       "</table>\n",
       "</div>"
      ],
      "text/plain": [
       "                  datetime          offense beat      latitude       longitude\n",
       "0  2011-09-04T04:20:00.000        NARCOTICS   R2  47.583656311  -122.302200317\n",
       "1  2011-09-04T05:04:00.000          ASSAULT   L3  47.698345184  -122.277740479\n",
       "2  2011-09-04T00:08:00.000  PROPERTY DAMAGE   B2  47.666423798  -122.369682312\n",
       "3  2011-03-03T20:30:00.000        CAR PROWL   L2  47.687610626  -122.314315796\n",
       "4  2011-08-30T18:00:00.000        CAR PROWL   U1  47.665672302  -122.304534912"
      ]
     },
     "execution_count": 10,
     "metadata": {},
     "output_type": "execute_result"
    }
   ],
   "source": [
    "df.head()"
   ]
  },
  {
   "cell_type": "code",
   "execution_count": 11,
   "metadata": {
    "collapsed": false
   },
   "outputs": [
    {
     "data": {
      "text/plain": [
       "array(['NARCOTICS', 'ASSAULT', 'PROPERTY DAMAGE', 'CAR PROWL',\n",
       "       'BIKE THEFT', 'STOLEN PROPERTY', 'OTHER PROPERTY', 'BURGLARY',\n",
       "       'VEHICLE THEFT', 'PICKPOCKET', 'TRESPASS', 'ROBBERY',\n",
       "       'WARRANT ARREST', 'LOST PROPERTY', 'SHOPLIFTING', 'DISTURBANCE',\n",
       "       'LIQUOR VIOLATION', 'FRAUD', 'THREATS', 'PUBLIC NUISANCE', 'WEAPON',\n",
       "       'DISPUTE', 'BURGLARY-SECURE PARKING-RES', 'MAIL THEFT', 'EMBEZZLE',\n",
       "       'PROSTITUTION', 'FALSE REPORT', 'OBSTRUCT', 'FORGERY',\n",
       "       'ILLEGAL DUMPING', 'THEFT OF SERVICES', 'ANIMAL COMPLAINT',\n",
       "       'TRAFFIC', 'INJURY', 'COUNTERFEIT', 'VIOLATION OF COURT ORDER',\n",
       "       'PURSE SNATCH', 'HOMICIDE', 'RECKLESS BURNING', 'HARBOR CALLS',\n",
       "       'RECOVERED PROPERTY', 'DUI', 'ELUDING', '[INC - CASE DC USE ONLY]',\n",
       "       'PORNOGRAPHY', 'BIAS INCIDENT', 'DISORDERLY CONDUCT', 'FIREWORK',\n",
       "       'STAY OUT OF AREA OF DRUGS', 'ESCAPE', 'EXTORTION', 'LOITERING',\n",
       "       'STAY OUT OF AREA OF PROSTITUTION', 'HARBOR CALLs',\n",
       "       'FRAUD AND FINANCIAL', 'GAMBLE', 'METRO', nan], dtype=object)"
      ]
     },
     "execution_count": 11,
     "metadata": {},
     "output_type": "execute_result"
    }
   ],
   "source": [
    "# List all possible types of offenses in the data\n",
    "df.offense.unique()"
   ]
  },
  {
   "cell_type": "markdown",
   "metadata": {},
   "source": [
    "### Describe and Handle Missing Data"
   ]
  },
  {
   "cell_type": "markdown",
   "metadata": {},
   "source": [
    "The first difficulty we encounter with this dataset is missing values. We can take care of these by dropping these rows."
   ]
  },
  {
   "cell_type": "code",
   "execution_count": 12,
   "metadata": {
    "collapsed": false
   },
   "outputs": [
    {
     "name": "stdout",
     "output_type": "stream",
     "text": [
      "1 rows are missing a value. This comprises 0.00014609780079 % of the 684473 rows of the data\n",
      "\n",
      "__MISSING ROWS BY COLUMN__\n",
      "datetime     1\n",
      "offense      1\n",
      "beat         1\n",
      "latitude     1\n",
      "longitude    1\n",
      "dtype: int64\n"
     ]
    }
   ],
   "source": [
    "# This dataset is missing data. How many rows have at least one NaN?\n",
    "num_missing_rows = df.isnull().any(axis=1).sum()\n",
    "print(num_missing_rows, 'rows are missing a value. This comprises',\n",
    "      num_missing_rows/len(df)*100,'% of the', len(df), 'rows of the data')\n",
    "\n",
    "# How many are missing from each column?\n",
    "print('\\n__MISSING ROWS BY COLUMN__')\n",
    "print(df.isnull().sum(axis=0))"
   ]
  },
  {
   "cell_type": "code",
   "execution_count": 13,
   "metadata": {
    "collapsed": false
   },
   "outputs": [],
   "source": [
    "# We are only missing 1 row... Hooray SPD!\n",
    "df = df.dropna()"
   ]
  },
  {
   "cell_type": "markdown",
   "metadata": {},
   "source": [
    "### Parse DataFrame Columns"
   ]
  },
  {
   "cell_type": "code",
   "execution_count": 14,
   "metadata": {
    "collapsed": false
   },
   "outputs": [
    {
     "data": {
      "text/html": [
       "<div>\n",
       "<table border=\"1\" class=\"dataframe\">\n",
       "  <thead>\n",
       "    <tr style=\"text-align: right;\">\n",
       "      <th></th>\n",
       "      <th>datetime</th>\n",
       "      <th>offense</th>\n",
       "      <th>beat</th>\n",
       "      <th>latitude</th>\n",
       "      <th>longitude</th>\n",
       "    </tr>\n",
       "  </thead>\n",
       "  <tbody>\n",
       "    <tr>\n",
       "      <th>0</th>\n",
       "      <td>2011-09-04 04:20:00</td>\n",
       "      <td>NARCOTICS</td>\n",
       "      <td>R2</td>\n",
       "      <td>47.583656</td>\n",
       "      <td>-122.302200</td>\n",
       "    </tr>\n",
       "    <tr>\n",
       "      <th>1</th>\n",
       "      <td>2011-09-04 05:04:00</td>\n",
       "      <td>ASSAULT</td>\n",
       "      <td>L3</td>\n",
       "      <td>47.698345</td>\n",
       "      <td>-122.277740</td>\n",
       "    </tr>\n",
       "    <tr>\n",
       "      <th>2</th>\n",
       "      <td>2011-09-04 00:08:00</td>\n",
       "      <td>PROPERTY DAMAGE</td>\n",
       "      <td>B2</td>\n",
       "      <td>47.666424</td>\n",
       "      <td>-122.369682</td>\n",
       "    </tr>\n",
       "  </tbody>\n",
       "</table>\n",
       "</div>"
      ],
      "text/plain": [
       "             datetime          offense beat   latitude   longitude\n",
       "0 2011-09-04 04:20:00        NARCOTICS   R2  47.583656 -122.302200\n",
       "1 2011-09-04 05:04:00          ASSAULT   L3  47.698345 -122.277740\n",
       "2 2011-09-04 00:08:00  PROPERTY DAMAGE   B2  47.666424 -122.369682"
      ]
     },
     "execution_count": 14,
     "metadata": {},
     "output_type": "execute_result"
    }
   ],
   "source": [
    "# Now convert the datetime, latitude and longitude from strings to datetime objs and floats\n",
    "\n",
    "# create parser for the latitude and longitude cols\n",
    "def parse_float(x):\n",
    "    try:\n",
    "         return float(x)\n",
    "    except ValueError:\n",
    "        print('Could not convert', x, 'to float.', ' Setting x=nan')\n",
    "        return np.nan   \n",
    "    \n",
    "# Apply the parser to create floats of latitude and longitude strings\n",
    "df.latitude = df.latitude.apply(parse_float)\n",
    "df.longitude = df.longitude.apply(parse_float)\n",
    "\n",
    "# convert the date strings to datetime objects, coerce will return NaTs if not convertible\n",
    "df.datetime = pd.to_datetime(df.datetime, errors='coerce')\n",
    "df.head(3)"
   ]
  },
  {
   "cell_type": "markdown",
   "metadata": {},
   "source": [
    "### Select Consistently Reported Data"
   ]
  },
  {
   "cell_type": "markdown",
   "metadata": {},
   "source": [
    "The second difficulty we find in this dataset is that data was not consistently collected prior to 2009. Lets show why this is the case."
   ]
  },
  {
   "cell_type": "code",
   "execution_count": 15,
   "metadata": {
    "collapsed": false
   },
   "outputs": [
    {
     "data": {
      "image/png": "[encoded data removed]",
      "text/plain": [
       "<matplotlib.figure.Figure at 0x7f1a716c0518>"
      ]
     },
     "metadata": {},
     "output_type": "display_data"
    }
   ],
   "source": [
    "# Lets look at the total number of offenses over time to see how well the data has been collected\n",
    "df = df.set_index('datetime')\n",
    "# get the min and max datetimes\n",
    "min_time = df.index.min()\n",
    "max_time = df.index.max()\n",
    "\n",
    "# construct time range\n",
    "rng = pd.date_range(min_time, max_time, freq='AS')\n",
    "\n",
    "# count the offenses by getting length of sliced dataframe\n",
    "offense_counts = [len(df[(df.index > min_time) & (df.index < max_time)]) \n",
    "                  for min_time, max_time in zip(rng, rng[1:])] \n",
    "\n",
    "# Plot data\n",
    "s=pd.Series(offense_counts, index=rng[1:])\n",
    "ax = s.plot(figsize=(8,4), linestyle='--', marker='o', xlim=('2000','2016'));\n",
    "ax.set_xlabel('Year');\n",
    "ax.set_ylabel('# Offenses');"
   ]
  },
  {
   "cell_type": "code",
   "execution_count": 16,
   "metadata": {
    "collapsed": false
   },
   "outputs": [],
   "source": [
    "# So we see that data collection didn't really start all the way back to 1965 (earliest date). So we will need \n",
    "# to drop all data prior to 2009. This will leave us with 7 years of data to examine (~622,000 incidents)\n",
    "df = df[df.index>'2009']\n",
    "df = df.sort_index()\n",
    "# reset the index back to integers\n",
    "df = df.reset_index()"
   ]
  },
  {
   "cell_type": "code",
   "execution_count": 17,
   "metadata": {
    "collapsed": false
   },
   "outputs": [
    {
     "name": "stdout",
     "output_type": "stream",
     "text": [
      "628613\n",
      "FRAUD AND FINANCIAL =  3\n",
      "HARBOR CALLS 10\n",
      "HARBOR CALLs 8\n",
      "METRO 1\n",
      "[INC - CASE DC USE ONLY] 51\n",
      "628540\n"
     ]
    },
    {
     "data": {
      "text/html": [
       "<div>\n",
       "<table border=\"1\" class=\"dataframe\">\n",
       "  <thead>\n",
       "    <tr style=\"text-align: right;\">\n",
       "      <th></th>\n",
       "      <th>datetime</th>\n",
       "      <th>offense</th>\n",
       "      <th>beat</th>\n",
       "      <th>latitude</th>\n",
       "      <th>longitude</th>\n",
       "    </tr>\n",
       "  </thead>\n",
       "  <tbody>\n",
       "    <tr>\n",
       "      <th>0</th>\n",
       "      <td>2009-01-01 00:01:00</td>\n",
       "      <td>STOLEN PROPERTY</td>\n",
       "      <td>D2</td>\n",
       "      <td>47.616053</td>\n",
       "      <td>-122.336166</td>\n",
       "    </tr>\n",
       "    <tr>\n",
       "      <th>1</th>\n",
       "      <td>2009-01-01 00:01:00</td>\n",
       "      <td>OTHER PROPERTY</td>\n",
       "      <td>C3</td>\n",
       "      <td>47.621270</td>\n",
       "      <td>-122.286870</td>\n",
       "    </tr>\n",
       "    <tr>\n",
       "      <th>2</th>\n",
       "      <td>2009-01-01 00:01:00</td>\n",
       "      <td>FRAUD</td>\n",
       "      <td>U3</td>\n",
       "      <td>47.658432</td>\n",
       "      <td>-122.289743</td>\n",
       "    </tr>\n",
       "    <tr>\n",
       "      <th>3</th>\n",
       "      <td>2009-01-01 00:01:00</td>\n",
       "      <td>BURGLARY</td>\n",
       "      <td>D1</td>\n",
       "      <td>47.618596</td>\n",
       "      <td>-122.353751</td>\n",
       "    </tr>\n",
       "    <tr>\n",
       "      <th>4</th>\n",
       "      <td>2009-01-01 00:01:00</td>\n",
       "      <td>FRAUD</td>\n",
       "      <td>L3</td>\n",
       "      <td>47.718304</td>\n",
       "      <td>-122.292753</td>\n",
       "    </tr>\n",
       "  </tbody>\n",
       "</table>\n",
       "</div>"
      ],
      "text/plain": [
       "             datetime          offense beat   latitude   longitude\n",
       "0 2009-01-01 00:01:00  STOLEN PROPERTY   D2  47.616053 -122.336166\n",
       "1 2009-01-01 00:01:00   OTHER PROPERTY   C3  47.621270 -122.286870\n",
       "2 2009-01-01 00:01:00            FRAUD   U3  47.658432 -122.289743\n",
       "3 2009-01-01 00:01:00         BURGLARY   D1  47.618596 -122.353751\n",
       "4 2009-01-01 00:01:00            FRAUD   L3  47.718304 -122.292753"
      ]
     },
     "execution_count": 17,
     "metadata": {},
     "output_type": "execute_result"
    }
   ],
   "source": [
    "# We also are going to drop the following offenses: Harbor Calls, FRAUD AND FINANCIAL, METRO, \n",
    "# and [INC - CASE DC USE ONLY]  because the number of offenses is extremely low.\n",
    "print(len(df))\n",
    "print('FRAUD AND FINANCIAL = ', len(df[df.offense=='FRAUD AND FINANCIAL']))\n",
    "print('HARBOR CALLS', len(df[df.offense=='HARBOR CALLS']))\n",
    "print('HARBOR CALLs', len(df[df.offense=='HARBOR CALLs']))\n",
    "print('METRO', len(df[df.offense=='METRO']))\n",
    "print('[INC - CASE DC USE ONLY]', len(df[df.offense=='[INC - CASE DC USE ONLY]']))\n",
    "df = df.drop(df[df.offense.isin(['FRAUD AND FINANCIAL','HARBOR CALLS','HARBOR CALLs',\n",
    "                                 'METRO','[INC - CASE DC USE ONLY]'])].index)\n",
    "print(len(df))\n",
    "df.head()"
   ]
  },
  {
   "cell_type": "markdown",
   "metadata": {},
   "source": [
    "## Precinct Shape Data Wrangling"
   ]
  },
  {
   "cell_type": "markdown",
   "metadata": {},
   "source": [
    "The crime data we just wrangled has the police beats or precincts. This gives us the opportunity to explore spatially where offenses are occurring, but we need a shapefile that describes the boundaries of each of the police beats. Fortunately, this again is available through Seattles Open Data Api."
   ]
  },
  {
   "cell_type": "code",
   "execution_count": 29,
   "metadata": {
    "collapsed": false
   },
   "outputs": [
    {
     "name": "stdout",
     "output_type": "stream",
     "text": [
      "Loading data from file...\n",
      "Loading Complete\n"
     ]
    }
   ],
   "source": [
    "if not glob.glob('data/*.geojson'):\n",
    "    print('Connecting to seattle.gov API Endpoint...')\n",
    "    # Force flush the above print from stdout buffer\n",
    "    sys.stdout.flush()\n",
    "    \n",
    "    # get a json response from the seattle.gov API endpoint\n",
    "    url = \"https://data.seattle.gov/resource/sa45-gthe.json\"\n",
    "    response = requests.get(url)\n",
    "    \n",
    "    # if status code good dump the data to file\n",
    "    if response.status_code == 200:\n",
    "        spd_beats = response.json()\n",
    "        with open('data/spd_beats.geojson', 'w') as outfile:\n",
    "            json.dump(spd_beats, outfile)\n",
    "            print('Success!')\n",
    "            \n",
    "    else: print('Http Status Code:', response.status_code)\n",
    "    \n",
    "else:\n",
    "    print('Loading data from file...')\n",
    "    sys.stdout.flush()\n",
    "    # Load the serialized json file obj\n",
    "    with open('data/spd_beats.json', 'r') as infile:\n",
    "        spd_beats = json.load(infile)\n",
    "    print('Loading Complete')"
   ]
  },
  {
   "cell_type": "markdown",
   "metadata": {
    "collapsed": false
   },
   "source": [
    "### Match Crime Data and Shape Data Discarding Discrepancies"
   ]
  },
  {
   "cell_type": "markdown",
   "metadata": {},
   "source": [
    "We now need to take a look at the json file and see how it is organized so we can extract the latitudes and longitudes for each of the police beats."
   ]
  },
  {
   "cell_type": "code",
   "execution_count": 30,
   "metadata": {
    "collapsed": false
   },
   "outputs": [],
   "source": [
    "#spd_beats[0]"
   ]
  },
  {
   "cell_type": "code",
   "execution_count": 31,
   "metadata": {
    "collapsed": false
   },
   "outputs": [
    {
     "name": "stdout",
     "output_type": "stream",
     "text": [
      "data_beats = 51 |  geo_beats = 51\n",
      "\n",
      " beat_diffs set()\n",
      "\n",
      " {}\n"
     ]
    }
   ],
   "source": [
    "# Perfect, notice we just got something for free... we now have the population in each beat\n",
    "# lets make sure the beats from the shapefile match the beats from the incident reports\n",
    "\n",
    "# get the beats from the json dict\n",
    "geo_beats = [spd_beats[el]['beat'] for el in range(len(spd_beats))]\n",
    "# get the beats from the incident report data\n",
    "data_beats = df.beat.unique()\n",
    "\n",
    "# lets start by comparing the number of beats (data_beats has three more...)\n",
    "print('data_beats =', len(data_beats),'|  geo_beats =', len(geo_beats))\n",
    "\n",
    "# get all the beats in data_beats not in geo_beats \n",
    "beat_diffs = set(df.beat.values)-set(geo_beats)\n",
    "print('\\n beat_diffs', beat_diffs)\n",
    "\n",
    "# if we remove data from our dataframe corresponding to these beats how much do we lose?\n",
    "print('\\n',{beat:len(df[df['beat']==beat]) for beat in beat_diffs})"
   ]
  },
  {
   "cell_type": "code",
   "execution_count": 32,
   "metadata": {
    "collapsed": false
   },
   "outputs": [
    {
     "name": "stdout",
     "output_type": "stream",
     "text": [
      "\n",
      " beat_diffs set()\n"
     ]
    }
   ],
   "source": [
    "# So if we drop the dataframe rows that have these beats we lose ~ 1500 events out of 677,000.\n",
    "df = df.drop(df[df['beat'].isin(beat_diffs)].index)\n",
    "\n",
    "# just check that the beat diffs is now None\n",
    "beat_diffs = set(df.beat.values)-set(geo_beats)\n",
    "print('\\n beat_diffs', beat_diffs)"
   ]
  },
  {
   "cell_type": "code",
   "execution_count": 33,
   "metadata": {
    "collapsed": false
   },
   "outputs": [],
   "source": [
    "# lets also pull out the population of each beat. This might come in handy...\n",
    "populations = {spd_beats[el]['beat']:spd_beats[el]['population'] for el in range(len(spd_beats))}"
   ]
  },
  {
   "cell_type": "code",
   "execution_count": 34,
   "metadata": {
    "collapsed": false
   },
   "outputs": [],
   "source": [
    "# Later, we are going to need to center lat/longitude of each beat visualization\n",
    "centroids = defaultdict(list)\n",
    "for el, _ in enumerate(spd_beats):\n",
    "    beat = spd_beats[el]['beat']\n",
    "    centroids[beat] = np.mean(np.array(spd_beats[el]['the_geom']['coordinates'][0][0]), axis=0)\n",
    "\n",
    "    # I also tried using max and min but this still doesn't hit center of each oddly shaped beat\n",
    "    # boundary = np.array(spd_beats[el]['the_geom']['coordinates'][0][0])\n",
    "    #long = (np.max(boundary[:,0])- np.min(boundary[:,0]))/2.0 + np.min(boundary[:,0])\n",
    "    #lat = (np.max(boundary[:,1])- np.min(boundary[:,1]))/2.0 + np.min(boundary[:,1])\n",
    "    #centroids[beat] = [lat, long]"
   ]
  },
  {
   "cell_type": "markdown",
   "metadata": {},
   "source": [
    "## Visualize Data"
   ]
  },
  {
   "cell_type": "markdown",
   "metadata": {},
   "source": [
    "** We are going to take several approaches to examine this data visually. The dataset is rich, it contains both qualitative and quantitative features. For example, a given offense (qualitative variable) has a set of corresponding quantitative variables (location, and time).**  "
   ]
  },
  {
   "cell_type": "markdown",
   "metadata": {},
   "source": [
    "### Choropleth Map"
   ]
  },
  {
   "cell_type": "markdown",
   "metadata": {},
   "source": [
    "We will start with a choropleth map. This type of map shows the number of events for each beat across time. While not the most useful map type, it does provide a bird's eye view of where particular crimes are occuring spatially. We will write a function that can take a given offense type found in the dataframe's offense column and return a choropleth map object. \n",
    "\n",
    "On a technical note, I am using folium, a python package that allows python to interact with leaflet.js library for geospatial visaulization (see https://folium.readthedocs.io/en/latest/)"
   ]
  },
  {
   "cell_type": "code",
   "execution_count": 35,
   "metadata": {
    "collapsed": true
   },
   "outputs": [],
   "source": [
    "# def display(m, height=300):\n",
    "#     \"\"\"Takes a folium instance and embed HTML.\"\"\"\n",
    "#     m._build_map()\n",
    "#     srcdoc = m.HTML.replace('\"', '&quot;')\n",
    "#     embed = HTML('<iframe srcdoc=\"{0}\" '\n",
    "#                  'style=\"width: 100%; height: {1}px; '\n",
    "#                  'border: none\"></iframe>'.format(srcdoc, height))\n",
    "#     return embed"
   ]
  },
  {
   "cell_type": "code",
   "execution_count": 43,
   "metadata": {
    "collapsed": false
   },
   "outputs": [
    {
     "name": "stderr",
     "output_type": "stream",
     "text": [
      "/home/giladmeir/.local/lib/python3.5/site-packages/ipykernel/__main__.py:52: FutureWarning: Map.create_map is deprecated. Use Map.save instead\n"
     ]
    }
   ],
   "source": [
    "def choropleth(df, offense='ASSAULT'):\n",
    "    \"\"\"\n",
    "    Generates a Choropleth Map displaying the total (over time) of the number of offenses.\n",
    "    \n",
    "    PARAMETERS\n",
    "    ----------\n",
    "    df      : dataframe object\n",
    "    offense : string matching one of the offense types in df.offense column\n",
    "    \n",
    "    RETURNS\n",
    "    -------\n",
    "    choropleth map object\n",
    "    \"\"\"\n",
    "    # group the dataframe by beat and offense\n",
    "    grouped_data = pd.DataFrame(df.groupby(['beat','offense'])['datetime'].count())\n",
    "    # unstack the last level 'offenses' to be the columns\n",
    "    beat_totals = grouped_data.unstack()\n",
    "    # drop the 'datetime' level from the column index\n",
    "    beat_totals.columns = beat_totals.columns.droplevel()\n",
    "    \n",
    "    # delete columns name and reset index back to integers (folium uses columns \n",
    "    # of df so we need to reset index to integer)\n",
    "    del beat_totals.index.name\n",
    "    del beat_totals.columns.name\n",
    "    \n",
    "    beat_totals = beat_totals.reset_index()\n",
    "\n",
    "    # set the look-up path of the geojson file\n",
    "    spd_zones = 'data/SPD_BEATS.geojson'\n",
    "    \n",
    "    # create custom threshold for color scaling\n",
    "    threshold = list(np.linspace(0, max(beat_totals[offense]), 6))\n",
    "    \n",
    "    beat_totals.to_json('crimeagg.json')\n",
    "\n",
    "    # make a map\n",
    "    m = folium.Map([df.latitude[0],df.longitude[0]], zoom_start=10)#, width='50%', height='75%')\n",
    "    \n",
    "    # add choropleth data to map\n",
    "    m.choropleth(geo_path=spd_zones,\n",
    "                data=beat_totals,\n",
    "                columns=['index', offense],\n",
    "                key_on='feature.properties.name',\n",
    "                threshold_scale = threshold,\n",
    "                fill_color='YlOrRd', fill_opacity = 0.6, line_opacity = 0.0,\n",
    "                legend_name=offense)\n",
    "    \n",
    "    # add a marker at the centroid location of each beat\n",
    "    \n",
    "    [folium.CircleMarker(centroids[beat][::-1], popup=beat,radius=150).add_to(m) for beat in list(centroids.keys())]\n",
    "\n",
    "    m.create_map(path='data/choropleth.html')\n",
    "    \n",
    "# call choropleth... Note the mean location of the markers is not very good.\n",
    "# a better procedure for calculating the center of each beat is needed...\n",
    "choropleth(df,'ASSAULT')"
   ]
  },
  {
   "cell_type": "code",
   "execution_count": 44,
   "metadata": {
    "collapsed": false,
    "scrolled": true
   },
   "outputs": [
    {
     "data": {
      "text/html": [
       "<iframe width=\"100%\" height=\"350\" src=\"data/choropleth.html\"></iframe>"
      ],
      "text/plain": [
       "<IPython.core.display.HTML object>"
      ]
     },
     "metadata": {},
     "output_type": "display_data"
    }
   ],
   "source": [
    "%%HTML\n",
    "<iframe width=\"100%\" height=\"350\" src=\"data/choropleth.html\"></iframe>"
   ]
  },
  {
   "cell_type": "markdown",
   "metadata": {},
   "source": [
    "### Bar Plot of Offenses by Beat"
   ]
  },
  {
   "cell_type": "markdown",
   "metadata": {},
   "source": [
    "The Choropleth is pretty but not all that useful. To examine the data more quanitatively we now make a bar plot for the number of offenses across beats. "
   ]
  },
  {
   "cell_type": "code",
   "execution_count": 45,
   "metadata": {
    "collapsed": false
   },
   "outputs": [
    {
     "data": {
      "image/png": "[encoded data removed]",
      "text/plain": [
       "<matplotlib.figure.Figure at 0x7f1a6ac5a0f0>"
      ]
     },
     "metadata": {},
     "output_type": "display_data"
    }
   ],
   "source": [
    "def offense_by_beat(df, offense = None, num_offenses=5):\n",
    "    \"\"\"\n",
    "    Bar plots offenses across beats.\n",
    "    \n",
    "    PARAMETERS\n",
    "    -----------\n",
    "    df:           crime dataframe with cols: datetime, offense, beat, latitude and longitude\n",
    "    offenses:     list of offenses in dataframe to plot (default=None)\n",
    "    num_offenses: if offenses is None, plot returns the top num_offenses (default=5)\n",
    "    \n",
    "    RETURNS\n",
    "    beat_totals: dataframe with beat as index and offenses as columns with offense counts as values.\n",
    "    -------\n",
    "    bar plot\n",
    "    \"\"\"\n",
    "    # Get the offenses to plot\n",
    "    if offense is None:\n",
    "        # get the top num_offenses\n",
    "        offense_totals = df.groupby('offense').count()['beat'].sort_values(ascending=False)\n",
    "        top_offenses = list(offense_totals.iloc[0:num_offenses].index)\n",
    "    else:\n",
    "        top_offenses = offense\n",
    "        \n",
    "    # group the dataframe by beat and offense\n",
    "    grouped_data = pd.DataFrame(df.groupby(['beat','offense'])['datetime'].count())\n",
    "    # unstack the last level 'offenses' to be the columns\n",
    "    beat_totals = grouped_data.unstack()\n",
    "    # drop the 'datetime' level from the column index\n",
    "    beat_totals.columns = beat_totals.columns.droplevel()\n",
    "    \n",
    "    # delete the index name and column name\n",
    "    del beat_totals.index.name\n",
    "    del beat_totals.columns.name\n",
    "    \n",
    "    barPlot = beat_totals[top_offenses].plot(kind='bar', figsize=(18,6), stacked=False);\n",
    "    barPlot.set_xlabel('Beat')\n",
    "    barPlot.set_ylabel('Num Offenses')\n",
    "    \n",
    "    return beat_totals\n",
    "    \n",
    "beat_totals = offense_by_beat(df, ['NARCOTICS', 'ASSAULT'])"
   ]
  },
  {
   "cell_type": "markdown",
   "metadata": {},
   "source": [
    "This has provided us with our first piece of useful information. From this plot we see that the number of assault offenses and narcotics offenses seem to be correlated across the police beats."
   ]
  },
  {
   "cell_type": "code",
   "execution_count": 46,
   "metadata": {
    "collapsed": false
   },
   "outputs": [
    {
     "data": {
      "text/html": [
       "<div>\n",
       "<table border=\"1\" class=\"dataframe\">\n",
       "  <thead>\n",
       "    <tr style=\"text-align: right;\">\n",
       "      <th></th>\n",
       "      <th>ANIMAL COMPLAINT</th>\n",
       "      <th>ASSAULT</th>\n",
       "      <th>BIAS INCIDENT</th>\n",
       "      <th>BIKE THEFT</th>\n",
       "      <th>BURGLARY</th>\n",
       "      <th>BURGLARY-SECURE PARKING-RES</th>\n",
       "      <th>CAR PROWL</th>\n",
       "      <th>COUNTERFEIT</th>\n",
       "      <th>DISORDERLY CONDUCT</th>\n",
       "      <th>DISPUTE</th>\n",
       "      <th>...</th>\n",
       "      <th>STAY OUT OF AREA OF PROSTITUTION</th>\n",
       "      <th>STOLEN PROPERTY</th>\n",
       "      <th>THEFT OF SERVICES</th>\n",
       "      <th>THREATS</th>\n",
       "      <th>TRAFFIC</th>\n",
       "      <th>TRESPASS</th>\n",
       "      <th>VEHICLE THEFT</th>\n",
       "      <th>VIOLATION OF COURT ORDER</th>\n",
       "      <th>WARRANT ARREST</th>\n",
       "      <th>WEAPON</th>\n",
       "    </tr>\n",
       "  </thead>\n",
       "  <tbody>\n",
       "    <tr>\n",
       "      <th>B1</th>\n",
       "      <td>19.0</td>\n",
       "      <td>868.0</td>\n",
       "      <td>3.0</td>\n",
       "      <td>361.0</td>\n",
       "      <td>1205.0</td>\n",
       "      <td>264.0</td>\n",
       "      <td>2179.0</td>\n",
       "      <td>23.0</td>\n",
       "      <td>2.0</td>\n",
       "      <td>56.0</td>\n",
       "      <td>...</td>\n",
       "      <td>NaN</td>\n",
       "      <td>342.0</td>\n",
       "      <td>38.0</td>\n",
       "      <td>496.0</td>\n",
       "      <td>64.0</td>\n",
       "      <td>304.0</td>\n",
       "      <td>962.0</td>\n",
       "      <td>44.0</td>\n",
       "      <td>367.0</td>\n",
       "      <td>47.0</td>\n",
       "    </tr>\n",
       "    <tr>\n",
       "      <th>B2</th>\n",
       "      <td>34.0</td>\n",
       "      <td>678.0</td>\n",
       "      <td>NaN</td>\n",
       "      <td>502.0</td>\n",
       "      <td>1800.0</td>\n",
       "      <td>156.0</td>\n",
       "      <td>3218.0</td>\n",
       "      <td>27.0</td>\n",
       "      <td>9.0</td>\n",
       "      <td>81.0</td>\n",
       "      <td>...</td>\n",
       "      <td>1.0</td>\n",
       "      <td>462.0</td>\n",
       "      <td>19.0</td>\n",
       "      <td>470.0</td>\n",
       "      <td>93.0</td>\n",
       "      <td>202.0</td>\n",
       "      <td>1742.0</td>\n",
       "      <td>53.0</td>\n",
       "      <td>380.0</td>\n",
       "      <td>45.0</td>\n",
       "    </tr>\n",
       "  </tbody>\n",
       "</table>\n",
       "<p>2 rows × 52 columns</p>\n",
       "</div>"
      ],
      "text/plain": [
       "    ANIMAL COMPLAINT  ASSAULT  BIAS INCIDENT  BIKE THEFT  BURGLARY  \\\n",
       "B1              19.0    868.0            3.0       361.0    1205.0   \n",
       "B2              34.0    678.0            NaN       502.0    1800.0   \n",
       "\n",
       "    BURGLARY-SECURE PARKING-RES  CAR PROWL  COUNTERFEIT  DISORDERLY CONDUCT  \\\n",
       "B1                        264.0     2179.0         23.0                 2.0   \n",
       "B2                        156.0     3218.0         27.0                 9.0   \n",
       "\n",
       "    DISPUTE   ...    STAY OUT OF AREA OF PROSTITUTION  STOLEN PROPERTY  \\\n",
       "B1     56.0   ...                                 NaN            342.0   \n",
       "B2     81.0   ...                                 1.0            462.0   \n",
       "\n",
       "    THEFT OF SERVICES  THREATS  TRAFFIC  TRESPASS  VEHICLE THEFT  \\\n",
       "B1               38.0    496.0     64.0     304.0          962.0   \n",
       "B2               19.0    470.0     93.0     202.0         1742.0   \n",
       "\n",
       "    VIOLATION OF COURT ORDER  WARRANT ARREST  WEAPON  \n",
       "B1                      44.0           367.0    47.0  \n",
       "B2                      53.0           380.0    45.0  \n",
       "\n",
       "[2 rows x 52 columns]"
      ]
     },
     "execution_count": 46,
     "metadata": {},
     "output_type": "execute_result"
    }
   ],
   "source": [
    "# Make sure we understand what beat_totals returned from bar plot looks like...\n",
    "beat_totals.head(2)"
   ]
  },
  {
   "cell_type": "markdown",
   "metadata": {},
   "source": [
    "### Examine Offense Correlations Across Beats"
   ]
  },
  {
   "cell_type": "markdown",
   "metadata": {},
   "source": [
    "In the Bar plot we noted that across beats the number of assault offenses and narcotic offenses appear correlated. Beats with higher Narcotic offenses seem to have higher Assault offenses. Lets look at a few sample scatter plots and then examine the correlation matrix."
   ]
  },
  {
   "cell_type": "code",
   "execution_count": 47,
   "metadata": {
    "collapsed": false
   },
   "outputs": [
    {
     "data": {
      "image/png": "[encoded data removed]",
      "text/plain": [
       "<matplotlib.figure.Figure at 0x7f1a6ac5be48>"
      ]
     },
     "metadata": {},
     "output_type": "display_data"
    }
   ],
   "source": [
    "fig, axarr = plt.subplots(2,3,figsize = (18,8))\n",
    "# lets look at a few sampled offenses\n",
    "sample_offenses = ['NARCOTICS','VEHICLE THEFT', 'PICKPOCKET', 'DISTURBANCE', 'BURGLARY', 'BIKE THEFT']\n",
    "for el, offense in enumerate(sample_offenses):\n",
    "    index = np.unravel_index(el,(2,3))\n",
    "    axarr[index[0], index[1]].scatter(beat_totals[offense], beat_totals['ASSAULT']);\n",
    "    axarr[index[0], index[1]].set_xlabel(offense);\n",
    "    axarr[index[0], index[1]].set_ylabel('Assaults');\n",
    "    plt.tight_layout()"
   ]
  },
  {
   "cell_type": "markdown",
   "metadata": {},
   "source": [
    "From the sample offenses it is pretty clear that Narcotics, Pickpocketing, and Disturbance offenses are positively correlated with Assualt offenses. Vehicle Theft and Burglary appear negatively correlatedand while Bike thefts show little correlation. Lets now examine all the offense correlations with assaults."
   ]
  },
  {
   "cell_type": "code",
   "execution_count": 48,
   "metadata": {
    "collapsed": false
   },
   "outputs": [
    {
     "data": {
      "text/html": [
       "<div>\n",
       "<table border=\"1\" class=\"dataframe\">\n",
       "  <thead>\n",
       "    <tr style=\"text-align: right;\">\n",
       "      <th></th>\n",
       "      <th>ASSAULT</th>\n",
       "    </tr>\n",
       "  </thead>\n",
       "  <tbody>\n",
       "    <tr>\n",
       "      <th>BURGLARY</th>\n",
       "      <td>-0.579044</td>\n",
       "    </tr>\n",
       "    <tr>\n",
       "      <th>MAIL THEFT</th>\n",
       "      <td>-0.533826</td>\n",
       "    </tr>\n",
       "    <tr>\n",
       "      <th>VEHICLE THEFT</th>\n",
       "      <td>-0.436190</td>\n",
       "    </tr>\n",
       "    <tr>\n",
       "      <th>FRAUD</th>\n",
       "      <td>-0.310059</td>\n",
       "    </tr>\n",
       "    <tr>\n",
       "      <th>DISPUTE</th>\n",
       "      <td>-0.271742</td>\n",
       "    </tr>\n",
       "    <tr>\n",
       "      <th>RECOVERED PROPERTY</th>\n",
       "      <td>-0.260422</td>\n",
       "    </tr>\n",
       "    <tr>\n",
       "      <th>ILLEGAL DUMPING</th>\n",
       "      <td>-0.234398</td>\n",
       "    </tr>\n",
       "    <tr>\n",
       "      <th>ANIMAL COMPLAINT</th>\n",
       "      <td>-0.201312</td>\n",
       "    </tr>\n",
       "    <tr>\n",
       "      <th>PROPERTY DAMAGE</th>\n",
       "      <td>-0.052007</td>\n",
       "    </tr>\n",
       "    <tr>\n",
       "      <th>ELUDING</th>\n",
       "      <td>-0.036333</td>\n",
       "    </tr>\n",
       "    <tr>\n",
       "      <th>PORNOGRAPHY</th>\n",
       "      <td>-0.032234</td>\n",
       "    </tr>\n",
       "    <tr>\n",
       "      <th>HOMICIDE</th>\n",
       "      <td>0.029382</td>\n",
       "    </tr>\n",
       "    <tr>\n",
       "      <th>ESCAPE</th>\n",
       "      <td>0.032987</td>\n",
       "    </tr>\n",
       "    <tr>\n",
       "      <th>FORGERY</th>\n",
       "      <td>0.089202</td>\n",
       "    </tr>\n",
       "    <tr>\n",
       "      <th>EXTORTION</th>\n",
       "      <td>0.095079</td>\n",
       "    </tr>\n",
       "    <tr>\n",
       "      <th>FIREWORK</th>\n",
       "      <td>0.109866</td>\n",
       "    </tr>\n",
       "    <tr>\n",
       "      <th>VIOLATION OF COURT ORDER</th>\n",
       "      <td>0.121552</td>\n",
       "    </tr>\n",
       "    <tr>\n",
       "      <th>COUNTERFEIT</th>\n",
       "      <td>0.136815</td>\n",
       "    </tr>\n",
       "    <tr>\n",
       "      <th>BURGLARY-SECURE PARKING-RES</th>\n",
       "      <td>0.158258</td>\n",
       "    </tr>\n",
       "    <tr>\n",
       "      <th>CAR PROWL</th>\n",
       "      <td>0.165691</td>\n",
       "    </tr>\n",
       "    <tr>\n",
       "      <th>PROSTITUTION</th>\n",
       "      <td>0.174326</td>\n",
       "    </tr>\n",
       "    <tr>\n",
       "      <th>RECKLESS BURNING</th>\n",
       "      <td>0.252723</td>\n",
       "    </tr>\n",
       "    <tr>\n",
       "      <th>SHOPLIFTING</th>\n",
       "      <td>0.270651</td>\n",
       "    </tr>\n",
       "    <tr>\n",
       "      <th>PUBLIC NUISANCE</th>\n",
       "      <td>0.307055</td>\n",
       "    </tr>\n",
       "    <tr>\n",
       "      <th>BIKE THEFT</th>\n",
       "      <td>0.307422</td>\n",
       "    </tr>\n",
       "    <tr>\n",
       "      <th>EMBEZZLE</th>\n",
       "      <td>0.332095</td>\n",
       "    </tr>\n",
       "    <tr>\n",
       "      <th>DUI</th>\n",
       "      <td>0.338815</td>\n",
       "    </tr>\n",
       "    <tr>\n",
       "      <th>FALSE REPORT</th>\n",
       "      <td>0.371112</td>\n",
       "    </tr>\n",
       "    <tr>\n",
       "      <th>TRAFFIC</th>\n",
       "      <td>0.403825</td>\n",
       "    </tr>\n",
       "    <tr>\n",
       "      <th>STOLEN PROPERTY</th>\n",
       "      <td>0.415341</td>\n",
       "    </tr>\n",
       "    <tr>\n",
       "      <th>GAMBLE</th>\n",
       "      <td>0.445408</td>\n",
       "    </tr>\n",
       "    <tr>\n",
       "      <th>THREATS</th>\n",
       "      <td>0.497220</td>\n",
       "    </tr>\n",
       "    <tr>\n",
       "      <th>LOITERING</th>\n",
       "      <td>0.548348</td>\n",
       "    </tr>\n",
       "    <tr>\n",
       "      <th>BIAS INCIDENT</th>\n",
       "      <td>0.553155</td>\n",
       "    </tr>\n",
       "    <tr>\n",
       "      <th>PURSE SNATCH</th>\n",
       "      <td>0.560494</td>\n",
       "    </tr>\n",
       "    <tr>\n",
       "      <th>OTHER PROPERTY</th>\n",
       "      <td>0.605443</td>\n",
       "    </tr>\n",
       "    <tr>\n",
       "      <th>STAY OUT OF AREA OF PROSTITUTION</th>\n",
       "      <td>0.646905</td>\n",
       "    </tr>\n",
       "    <tr>\n",
       "      <th>THEFT OF SERVICES</th>\n",
       "      <td>0.650427</td>\n",
       "    </tr>\n",
       "    <tr>\n",
       "      <th>STAY OUT OF AREA OF DRUGS</th>\n",
       "      <td>0.652297</td>\n",
       "    </tr>\n",
       "    <tr>\n",
       "      <th>OBSTRUCT</th>\n",
       "      <td>0.680097</td>\n",
       "    </tr>\n",
       "    <tr>\n",
       "      <th>INJURY</th>\n",
       "      <td>0.684468</td>\n",
       "    </tr>\n",
       "    <tr>\n",
       "      <th>LOST PROPERTY</th>\n",
       "      <td>0.688775</td>\n",
       "    </tr>\n",
       "    <tr>\n",
       "      <th>ROBBERY</th>\n",
       "      <td>0.691319</td>\n",
       "    </tr>\n",
       "    <tr>\n",
       "      <th>WEAPON</th>\n",
       "      <td>0.714682</td>\n",
       "    </tr>\n",
       "    <tr>\n",
       "      <th>DISORDERLY CONDUCT</th>\n",
       "      <td>0.719905</td>\n",
       "    </tr>\n",
       "    <tr>\n",
       "      <th>LIQUOR VIOLATION</th>\n",
       "      <td>0.783709</td>\n",
       "    </tr>\n",
       "    <tr>\n",
       "      <th>WARRANT ARREST</th>\n",
       "      <td>0.803154</td>\n",
       "    </tr>\n",
       "    <tr>\n",
       "      <th>PICKPOCKET</th>\n",
       "      <td>0.805614</td>\n",
       "    </tr>\n",
       "    <tr>\n",
       "      <th>NARCOTICS</th>\n",
       "      <td>0.813447</td>\n",
       "    </tr>\n",
       "    <tr>\n",
       "      <th>TRESPASS</th>\n",
       "      <td>0.843507</td>\n",
       "    </tr>\n",
       "    <tr>\n",
       "      <th>DISTURBANCE</th>\n",
       "      <td>0.900703</td>\n",
       "    </tr>\n",
       "    <tr>\n",
       "      <th>ASSAULT</th>\n",
       "      <td>1.000000</td>\n",
       "    </tr>\n",
       "  </tbody>\n",
       "</table>\n",
       "</div>"
      ],
      "text/plain": [
       "                                   ASSAULT\n",
       "BURGLARY                         -0.579044\n",
       "MAIL THEFT                       -0.533826\n",
       "VEHICLE THEFT                    -0.436190\n",
       "FRAUD                            -0.310059\n",
       "DISPUTE                          -0.271742\n",
       "RECOVERED PROPERTY               -0.260422\n",
       "ILLEGAL DUMPING                  -0.234398\n",
       "ANIMAL COMPLAINT                 -0.201312\n",
       "PROPERTY DAMAGE                  -0.052007\n",
       "ELUDING                          -0.036333\n",
       "PORNOGRAPHY                      -0.032234\n",
       "HOMICIDE                          0.029382\n",
       "ESCAPE                            0.032987\n",
       "FORGERY                           0.089202\n",
       "EXTORTION                         0.095079\n",
       "FIREWORK                          0.109866\n",
       "VIOLATION OF COURT ORDER          0.121552\n",
       "COUNTERFEIT                       0.136815\n",
       "BURGLARY-SECURE PARKING-RES       0.158258\n",
       "CAR PROWL                         0.165691\n",
       "PROSTITUTION                      0.174326\n",
       "RECKLESS BURNING                  0.252723\n",
       "SHOPLIFTING                       0.270651\n",
       "PUBLIC NUISANCE                   0.307055\n",
       "BIKE THEFT                        0.307422\n",
       "EMBEZZLE                          0.332095\n",
       "DUI                               0.338815\n",
       "FALSE REPORT                      0.371112\n",
       "TRAFFIC                           0.403825\n",
       "STOLEN PROPERTY                   0.415341\n",
       "GAMBLE                            0.445408\n",
       "THREATS                           0.497220\n",
       "LOITERING                         0.548348\n",
       "BIAS INCIDENT                     0.553155\n",
       "PURSE SNATCH                      0.560494\n",
       "OTHER PROPERTY                    0.605443\n",
       "STAY OUT OF AREA OF PROSTITUTION  0.646905\n",
       "THEFT OF SERVICES                 0.650427\n",
       "STAY OUT OF AREA OF DRUGS         0.652297\n",
       "OBSTRUCT                          0.680097\n",
       "INJURY                            0.684468\n",
       "LOST PROPERTY                     0.688775\n",
       "ROBBERY                           0.691319\n",
       "WEAPON                            0.714682\n",
       "DISORDERLY CONDUCT                0.719905\n",
       "LIQUOR VIOLATION                  0.783709\n",
       "WARRANT ARREST                    0.803154\n",
       "PICKPOCKET                        0.805614\n",
       "NARCOTICS                         0.813447\n",
       "TRESPASS                          0.843507\n",
       "DISTURBANCE                       0.900703\n",
       "ASSAULT                           1.000000"
      ]
     },
     "execution_count": 48,
     "metadata": {},
     "output_type": "execute_result"
    }
   ],
   "source": [
    "pd.DataFrame(beat_totals.corr().ASSAULT).sort_values(by='ASSAULT')"
   ]
  },
  {
   "cell_type": "markdown",
   "metadata": {},
   "source": [
    "## Predictive Modeling I: Assaults  Across Beats"
   ]
  },
  {
   "cell_type": "markdown",
   "metadata": {},
   "source": [
    "The ordered correlation matrix shows that a number of the offenses are correlated with assaults. It also shows that some offenses are not correlated with assaults at all. Lets see if we can model the number of assaults (response) in each beat given the number of non-assault offenses in the same beat (predictors)."
   ]
  },
  {
   "cell_type": "code",
   "execution_count": 49,
   "metadata": {
    "collapsed": false
   },
   "outputs": [
    {
     "name": "stdout",
     "output_type": "stream",
     "text": [
      "We have 51 beats reporting assaults (aka: responses) and \n",
      " 51 non-assault offenses in each beat (aka: predictors)\n"
     ]
    }
   ],
   "source": [
    "num_predictors = beat_totals.shape[1]-1\n",
    "num_responses = beat_totals.shape[0]\n",
    "print('We have', num_responses, 'beats reporting assaults (aka: responses) and \\n', num_predictors, \n",
    "      'non-assault offenses in each beat (aka: predictors)')"
   ]
  },
  {
   "cell_type": "markdown",
   "metadata": {},
   "source": [
    "So this is a challenging set of data because the number of responses is equal to the number of predictors. However, based on the correlation results we think that some of these predictors are not related to the response. This means we have predictors that could be adding noise (variance) to the model. This is a scenario where subset selection or regularization models can help. They trade off a little bias for a greater reduction in variance to improve a models Test MSE. Lets make the full least squares model and then compare with the lasso regularizzation model using the scikit-learn library."
   ]
  },
  {
   "cell_type": "code",
   "execution_count": 50,
   "metadata": {
    "collapsed": false
   },
   "outputs": [],
   "source": [
    "# The beat totals dataframe contains NaNs. These are where an offense did not occur in a beat. \n",
    "# We will set these to 0. \n",
    "beat_totals = beat_totals.fillna(value=0)"
   ]
  },
  {
   "cell_type": "code",
   "execution_count": 51,
   "metadata": {
    "collapsed": true
   },
   "outputs": [],
   "source": [
    "# create a list of the predictor columns removing the Assault response column.\n",
    "predictors = beat_totals.columns.tolist()\n",
    "predictors.remove('ASSAULT')"
   ]
  },
  {
   "cell_type": "markdown",
   "metadata": {},
   "source": [
    "### Least Squares Model and LOOCV Test MSE Estimate"
   ]
  },
  {
   "cell_type": "code",
   "execution_count": 52,
   "metadata": {
    "collapsed": false
   },
   "outputs": [
    {
     "name": "stdout",
     "output_type": "stream",
     "text": [
      "LOOCV Estimate of Least Squares Test MSE =  134444.285877\n"
     ]
    }
   ],
   "source": [
    "# Create a linearRegression model\n",
    "np.random.seed(0)\n",
    "ls_model = LinearRegression()\n",
    "# perform a LOOCV using the model returning the estimated Test MSE\n",
    "ls_mse = -np.mean(cross_val_score(ls_model, beat_totals[predictors], beat_totals.ASSAULT,\n",
    "                                  scoring='mean_squared_error', cv=len(beat_totals)))\n",
    "\n",
    "print('LOOCV Estimate of Least Squares Test MSE = ', ls_mse)"
   ]
  },
  {
   "cell_type": "code",
   "execution_count": 53,
   "metadata": {
    "collapsed": false
   },
   "outputs": [
    {
     "name": "stdout",
     "output_type": "stream",
     "text": [
      "% Error is ~ 51.8321109051\n"
     ]
    }
   ],
   "source": [
    "# The percentage error is approximately\n",
    "print('% Error is ~', np.sqrt(ls_mse)/beat_totals.ASSAULT.mean()*100)\n",
    "# This is approximate because technically %Error is RSE/mean(ASSUALTS) RSE = sqrt(RSS/n-p-1),\n",
    "# we are approximating it as sqrt(RSS/n)/mean(ASSAULTS) so we are overestimating the error"
   ]
  },
  {
   "cell_type": "markdown",
   "metadata": {},
   "source": [
    "### Lasso Regression Model and LOOCV Test MSE Estimate"
   ]
  },
  {
   "cell_type": "markdown",
   "metadata": {},
   "source": [
    "We suspect that some of the offenses are not related to the assaults. These potentially unrelated predictors may drive the variance of the model up -- thereby reducing the Test MSE. We will now try the lasso regularization model to set 'noise' predictors to 0. This increases the bias a little but may dramatically reduce the model's variance. First we need to locate the regularization 'hyperparameter' using cross-validation."
   ]
  },
  {
   "cell_type": "code",
   "execution_count": 54,
   "metadata": {
    "collapsed": false
   },
   "outputs": [
    {
     "data": {
      "image/png": "[encoded data removed]",
      "text/plain": [
       "<matplotlib.figure.Figure at 0x7f1a6a7008d0>"
      ]
     },
     "metadata": {},
     "output_type": "display_data"
    },
    {
     "name": "stdout",
     "output_type": "stream",
     "text": [
      "Lasso Regression LOOCV Test MSE Estimate =  13315.3591172 \n",
      "\n",
      "Intercept                          -106.258403\n",
      "ANIMAL COMPLAINT                     -0.100107\n",
      "BIAS INCIDENT                         4.216823\n",
      "BIKE THEFT                            0.114175\n",
      "BURGLARY                             -0.037422\n",
      "BURGLARY-SECURE PARKING-RES          -0.000000\n",
      "CAR PROWL                             0.000000\n",
      "COUNTERFEIT                          -0.624962\n",
      "DISORDERLY CONDUCT                    0.000000\n",
      "DISPUTE                              -0.000000\n",
      "DISTURBANCE                           1.603744\n",
      "DUI                                  -0.000000\n",
      "ELUDING                               0.000000\n",
      "EMBEZZLE                              0.991800\n",
      "ESCAPE                                6.208165\n",
      "EXTORTION                            -0.000000\n",
      "FALSE REPORT                          0.000000\n",
      "FIREWORK                              0.000000\n",
      "FORGERY                              -0.000000\n",
      "FRAUD                                -0.000000\n",
      "GAMBLE                               -0.000000\n",
      "HOMICIDE                              0.000000\n",
      "ILLEGAL DUMPING                      -0.000000\n",
      "INJURY                                2.372801\n",
      "LIQUOR VIOLATION                      2.843904\n",
      "LOITERING                             0.836152\n",
      "LOST PROPERTY                         0.000000\n",
      "MAIL THEFT                           -0.884701\n",
      "NARCOTICS                             0.210433\n",
      "OBSTRUCT                              0.000000\n",
      "OTHER PROPERTY                        0.000000\n",
      "PICKPOCKET                            0.206991\n",
      "PORNOGRAPHY                           0.000000\n",
      "PROPERTY DAMAGE                      -0.000000\n",
      "PROSTITUTION                          0.000000\n",
      "PUBLIC NUISANCE                       0.000000\n",
      "PURSE SNATCH                          0.000000\n",
      "RECKLESS BURNING                      1.121688\n",
      "RECOVERED PROPERTY                   -2.776422\n",
      "ROBBERY                               0.099715\n",
      "SHOPLIFTING                          -0.000000\n",
      "STAY OUT OF AREA OF DRUGS             0.000000\n",
      "STAY OUT OF AREA OF PROSTITUTION     -6.515461\n",
      "STOLEN PROPERTY                      -0.000000\n",
      "THEFT OF SERVICES                     0.000000\n",
      "THREATS                               0.000000\n",
      "TRAFFIC                              -0.000000\n",
      "TRESPASS                              0.000000\n",
      "VEHICLE THEFT                        -0.000000\n",
      "VIOLATION OF COURT ORDER             -0.000000\n",
      "WARRANT ARREST                        0.000000\n",
      "WEAPON                                0.000000\n",
      "dtype: float64\n"
     ]
    }
   ],
   "source": [
    "# Fit a lasso model with 200 alpha values and LOOCV. Be sure to normalize the predictors\n",
    "lambdas = 10**np.linspace(-2,1, 200)\n",
    "lasso = LassoCV(alphas=lambdas, fit_intercept=True, normalize=True, cv=len(beat_totals), max_iter=10000)\n",
    "lasso.fit(beat_totals[predictors], beat_totals.ASSAULT)\n",
    "\n",
    "# get the lasso MSE by taking the mean across folds i.e. axis=1\n",
    "lasso_mse = np.mean(lasso.mse_path_, axis=1)\n",
    "# compute the minimum mse corresponding to the optimal alpha\n",
    "min_lasso_mse = min(lasso_mse)\n",
    "\n",
    "# Plot the best alpha, and the mse at this alpha\n",
    "fig, ax = plt.subplots(figsize=(8,6))\n",
    "ax.plot(lasso.alphas_, lasso_mse )\n",
    "ax.plot(lasso.alpha_, min_lasso_mse, marker='o', color='b', markersize=12);\n",
    "ax.set_xscale('log');\n",
    "ax.set_xlabel('log(alpha)');\n",
    "ax.set_ylabel('Lasso Test MSE');\n",
    "plt.show()\n",
    "\n",
    "print('Lasso Regression LOOCV Test MSE Estimate = ', min(lasso_mse),'\\n')\n",
    "# Print the Lasso Regression Coeffecients\n",
    "print(pd.Series(data = np.hstack([lasso.intercept_, lasso.coef_]), index=['Intercept'] + predictors))"
   ]
  },
  {
   "cell_type": "markdown",
   "metadata": {},
   "source": [
    "** Very cool, we have found that many of the predictors are now 0. In fact only 21 predictors remain. Lets see if this has improved the models performance...**"
   ]
  },
  {
   "cell_type": "code",
   "execution_count": 55,
   "metadata": {
    "collapsed": false
   },
   "outputs": [
    {
     "name": "stdout",
     "output_type": "stream",
     "text": [
      "%Error Rate of Lasso Model is ~ 16.3118854829\n"
     ]
    }
   ],
   "source": [
    "print('%Error Rate of Lasso Model is ~', np.sqrt(min(lasso_mse))/beat_totals.ASSAULT.mean()*100)"
   ]
  },
  {
   "cell_type": "markdown",
   "metadata": {},
   "source": [
    "So by regularization we have found a set of predictors that are correlated with the response and together make a model with a much lower error rate than what we found with the full least squares model."
   ]
  },
  {
   "cell_type": "markdown",
   "metadata": {},
   "source": [
    "### Actionable Insights"
   ]
  },
  {
   "cell_type": "markdown",
   "metadata": {},
   "source": [
    "** Given the likelihood of multicollinearity, that is correlated offenses used as model predictors, we can not state that we know which specific offenses are predictive of the number of assaults across beats. However, our model has located a set of offenses that are correlated with assaults across Seattle PDs beats. Below are the set of offenses that our lasso model has identified:**"
   ]
  },
  {
   "cell_type": "code",
   "execution_count": 56,
   "metadata": {
    "collapsed": false
   },
   "outputs": [
    {
     "data": {
      "text/plain": [
       "ANIMAL COMPLAINT                   -0.100107\n",
       "BIAS INCIDENT                       4.216823\n",
       "BIKE THEFT                          0.114175\n",
       "BURGLARY                           -0.037422\n",
       "COUNTERFEIT                        -0.624962\n",
       "DISTURBANCE                         1.603744\n",
       "EMBEZZLE                            0.991800\n",
       "ESCAPE                              6.208165\n",
       "INJURY                              2.372801\n",
       "LIQUOR VIOLATION                    2.843904\n",
       "LOITERING                           0.836152\n",
       "MAIL THEFT                         -0.884701\n",
       "NARCOTICS                           0.210433\n",
       "PICKPOCKET                          0.206991\n",
       "RECKLESS BURNING                    1.121688\n",
       "RECOVERED PROPERTY                 -2.776422\n",
       "ROBBERY                             0.099715\n",
       "STAY OUT OF AREA OF PROSTITUTION   -6.515461\n",
       "Name: Coeffecient, dtype: float64"
      ]
     },
     "execution_count": 56,
     "metadata": {},
     "output_type": "execute_result"
    }
   ],
   "source": [
    "results = {predictor: coeff for predictor,coeff in zip(predictors,lasso.coef_) if np.abs(coeff)>0}\n",
    "results = pd.Series(results,name='Coeffecient')\n",
    "results"
   ]
  },
  {
   "cell_type": "markdown",
   "metadata": {},
   "source": [
    "** A positive coeffecient implies that an increase of that offense type in a given beat results in an increase of assaults if all other offenses are fixed. Similarly, a negative coeffecient implies that an increase in that offense type results in a decrease of assaults holding all other offenses fixed. For example, if a given district sees a rise of narcotics, embezzlements and distrubances but little change in other offense types then the model predicts an increase in assaults for that police beat. **"
   ]
  },
  {
   "cell_type": "markdown",
   "metadata": {},
   "source": [
    "## Predictive Modeling II: Assaults in Time"
   ]
  },
  {
   "cell_type": "markdown",
   "metadata": {},
   "source": [
    "### Visualize Assaults by Month"
   ]
  },
  {
   "cell_type": "markdown",
   "metadata": {},
   "source": [
    "A natural starting place is to examine how many assaults occur in each of the 12 calendar months over the years the SPD has been reporting. Are assaults more likely during the warmer months?"
   ]
  },
  {
   "cell_type": "code",
   "execution_count": 57,
   "metadata": {
    "collapsed": false
   },
   "outputs": [
    {
     "data": {
      "image/png": "[encoded data removed]",
      "text/plain": [
       "<matplotlib.figure.Figure at 0x7f1a6a2d82b0>"
      ]
     },
     "metadata": {},
     "output_type": "display_data"
    }
   ],
   "source": [
    "def offense_by_month(df, offense, beat=None):\n",
    "    \"\"\"\n",
    "    Boxplot of the number of offense mathcing offense input. specific beat can be supplied.\n",
    "    \n",
    "    PARAMETERS\n",
    "    ----------\n",
    "    df        :dataframe with columns datetime, offense and beat\n",
    "    beat      :beat string where we will count offenses \n",
    "    offenses  :str offense from df's offense column we wish to count\n",
    "    \n",
    "    RETURNS\n",
    "    ---------\n",
    "    NONE\n",
    "    \"\"\"\n",
    "    # get from dataframe rows where offense and beat match requested offense and beat strings\n",
    "    if beat:\n",
    "        df2 = df.loc[(df.offense==offense) & (df.beat==beat)]\n",
    "    else:\n",
    "        df2 = df.loc[(df.offense==offense)]\n",
    "        \n",
    "    # Group the offenses by year and month and count returning a two-index series\n",
    "    counts = df2['offense'].groupby([df2.datetime.dt.year, df2.datetime.dt.month]).count()\n",
    "    # convert series to dataframe naming the counts as counts\n",
    "    counts = counts.to_frame('counts')\n",
    "    # rename the indices to year and month then reset index to integer\n",
    "    counts.index.names = ['year', 'month']\n",
    "    counts = counts.reset_index()\n",
    "    \n",
    "    # Boxplot the counts grouping by month\n",
    "    fig,ax = plt.subplots(1,1,figsize=(8,6))\n",
    "    counts.boxplot(column='counts', by='month', ax=ax, showmeans=True, showfliers=False)\n",
    "    fig.suptitle('')\n",
    "    ax.set_title(offense +' by Month')\n",
    "    ax.set_ylabel(offense)\n",
    "    \n",
    "    return\n",
    "    \n",
    "offense_by_month(df,'ASSAULT')"
   ]
  },
  {
   "cell_type": "markdown",
   "metadata": {},
   "source": [
    "The boxplot of the data indicates more assaults during the months of June, July and August. So there is a weak periodicity to the time series data."
   ]
  },
  {
   "cell_type": "markdown",
   "metadata": {},
   "source": [
    "### Assault Time Series in a Beat"
   ]
  },
  {
   "cell_type": "markdown",
   "metadata": {},
   "source": [
    "Now lets drill down on the actual time series of the assaults across all the reporting months."
   ]
  },
  {
   "cell_type": "code",
   "execution_count": 58,
   "metadata": {
    "collapsed": false
   },
   "outputs": [
    {
     "data": {
      "image/png": "[encoded data removed]",
      "text/plain": [
       "<matplotlib.figure.Figure at 0x7f1a6a14c9b0>"
      ]
     },
     "metadata": {},
     "output_type": "display_data"
    }
   ],
   "source": [
    "def offense_by_time(df, offenses, beat='M3', frequency='M'):\n",
    "    \"\"\"\n",
    "    Plots the number of offenses, supplied in df, over time sampled at frequency.\n",
    "    \n",
    "    PARAMETERS\n",
    "    ----------\n",
    "    df        :dataframe with columns datetime, offense and beat\n",
    "    beat      :beat string where we will count offenses \n",
    "    offenses  :list of offenses from df's offense column we wish to count\n",
    "    frequency :datetime frequency string 'D','M', 'AS'\n",
    "    \n",
    "    RETURNS\n",
    "    ---------\n",
    "    \n",
    "    \"\"\"\n",
    "    \n",
    "    # set the datetime column to be the index for slicing\n",
    "    df2 = df.set_index('datetime')\n",
    "    \n",
    "    # construct a list of dateTime stamps with frequency\n",
    "    rng = pd.date_range(df2.index.min(), df2.index.max(), freq=frequency)\n",
    "    \n",
    "    # create a counts array num_offenses x num_months\n",
    "    counts = np.zeros((len(offenses),len(rng)-1))\n",
    "    \n",
    "    fig, ax = plt.subplots(figsize=(8,4));\n",
    "    \n",
    "    for idx, offense in enumerate(offenses):\n",
    "        \n",
    "        # Get rows matching offense and beat\n",
    "        df3 = df2.loc[(df2.offense==offense) & (df2.beat==beat)]\n",
    "        \n",
    "        # perform a count of the offenses in the timespans.\n",
    "        counts[idx] = [df3[(df3.index > time1) & (df3.index < time2)].offense.count() \n",
    "                           for time1, time2 in zip(rng, rng[1:])]\n",
    "        \n",
    "        ax.plot(counts[idx], label=offense);\n",
    "    \n",
    "    ax.set_xlabel('Month');\n",
    "    ax.set_ylabel('# Offenses');\n",
    "    ax.legend()\n",
    "    \n",
    "    return counts\n",
    "   \n",
    "counts = offense_by_time(df, ['NARCOTICS', 'ASSAULT', 'BIKE THEFT'], beat='M3', frequency='M')"
   ]
  },
  {
   "cell_type": "markdown",
   "metadata": {},
   "source": [
    "Notice that the assaults appear to have some structure across time. There are sustained periods of higher and lower assaults. This suggest that knowledge about the previous month's assault count might be predictive of the current month's assault count. Lets look at a lag plot to see if this intuition is right."
   ]
  },
  {
   "cell_type": "markdown",
   "metadata": {},
   "source": [
    "### Lag Plot of Assaults in a Beat"
   ]
  },
  {
   "cell_type": "code",
   "execution_count": 59,
   "metadata": {
    "collapsed": false
   },
   "outputs": [
    {
     "data": {
      "image/png": "[encoded data removed]",
      "text/plain": [
       "<matplotlib.figure.Figure at 0x7f1a71f5bd68>"
      ]
     },
     "metadata": {},
     "output_type": "display_data"
    }
   ],
   "source": [
    "assaults = counts[1]\n",
    "data = pd.Series(assaults)\n",
    "fig, ax = plt.subplots(figsize=(8,6))\n",
    "ax = lag_plot(data, c=[0,0,1], s=50, alpha=0.5);\n",
    "ax.set_xlabel('Assaults (t)');\n",
    "ax.set_ylabel('Assaults (t+1)');"
   ]
  },
  {
   "cell_type": "markdown",
   "metadata": {},
   "source": [
    "So yes there is structure in the lag plot to indicate that knowledge about previous month's assaults may help us predict current month's assaults. We can further examine this by finding the auto-correlation at different lags."
   ]
  },
  {
   "cell_type": "markdown",
   "metadata": {},
   "source": [
    "### Auto-Correlations of Assaults in Time"
   ]
  },
  {
   "cell_type": "code",
   "execution_count": 60,
   "metadata": {
    "collapsed": false
   },
   "outputs": [
    {
     "data": {
      "image/png": "[encoded data removed]",
      "text/plain": [
       "<matplotlib.figure.Figure at 0x7f1a535b4128>"
      ]
     },
     "metadata": {},
     "output_type": "display_data"
    }
   ],
   "source": [
    "# Examine Autocorrelation\n",
    "fig, ax = plt.subplots(figsize=(8,4))\n",
    "sm.graphics.tsa.plot_acf(assaults, lags=20, ax = ax, alpha=.05)\n",
    "ax.set_xlabel('Lag');\n",
    "ax.set_ylabel('ACF');"
   ]
  },
  {
   "cell_type": "code",
   "execution_count": 61,
   "metadata": {
    "collapsed": false
   },
   "outputs": [
    {
     "data": {
      "image/png": "[encoded data removed]",
      "text/plain": [
       "<matplotlib.figure.Figure at 0x7f1a535ab160>"
      ]
     },
     "metadata": {},
     "output_type": "display_data"
    }
   ],
   "source": [
    "# Examine Partial Autocorrelations (i.e. the AC between y_t and y_t+k where depence on previous lags is removed)\n",
    "fig, ax = plt.subplots(figsize=(8,4))\n",
    "sm.graphics.tsa.plot_pacf(assaults, lags=20, ax = ax, alpha=.05)\n",
    "ax.set_xlabel('Lag');\n",
    "ax.set_ylabel('PACF');"
   ]
  },
  {
   "cell_type": "markdown",
   "metadata": {},
   "source": [
    "By examining the Auto-correlation function we find that 2-3 lags are significant. When we remove the contibution from other lags the Partial Auto-Correlation shows that only one lag is significant. Also neither plot shows a lot of periodicity so we expect that a 1-lag autoregression model will work to model this data. Let's try it out."
   ]
  },
  {
   "cell_type": "markdown",
   "metadata": {},
   "source": [
    "### Autoregressive Model of Assaults"
   ]
  },
  {
   "cell_type": "markdown",
   "metadata": {},
   "source": [
    "We want to build a model of the assaults in time and see if we can be predictive. To do this we will build an AR(p) model \"Auto-regressive model with p-lags\". The model has the form $Y_{t} = \\beta_0 + \\beta_1 Y_{t-1} + ... \\beta_p Y_{t-p} + \\epsilon_{t}$ The number of lags will be determined using an Akaike Information Criteria."
   ]
  },
  {
   "cell_type": "code",
   "execution_count": 62,
   "metadata": {
    "collapsed": false
   },
   "outputs": [
    {
     "name": "stdout",
     "output_type": "stream",
     "text": [
      "[ 1.01770614]\n"
     ]
    }
   ],
   "source": [
    "# Build an ar model with no linear trend using AIC to select the optimal number of Lags\n",
    "# note fit auto performs difference transformation to ensure stationarity.\n",
    "ar_model = AR(assaults)\n",
    "ar_results = ar_model.fit(ic ='AIC', trend='nc')\n",
    "print(ar_results.params)"
   ]
  },
  {
   "cell_type": "markdown",
   "metadata": {},
   "source": [
    "So in agreement with our intuition above, the AIC criteria has picked a 1-lag model with a slope close to 1. This is just like a random walk model $Y_t = Y_{t-1} + \\epsilon_{t-1}$. No suprise, this kind of model works well on all sorts of econometric data that looks very similiar to the assaults data."
   ]
  },
  {
   "cell_type": "markdown",
   "metadata": {},
   "source": [
    "### AR Model Fit"
   ]
  },
  {
   "cell_type": "markdown",
   "metadata": {},
   "source": [
    "Over many points the AR(1) model should converge to roughly the mean of the data, so we don't expect to be able to perform any long-term predictions. This makes sense given that our model has only one lag. Lets see how well we do if we simply predict the assaults in a given month based on the previous month's assaults..."
   ]
  },
  {
   "cell_type": "code",
   "execution_count": 63,
   "metadata": {
    "collapsed": false
   },
   "outputs": [
    {
     "data": {
      "image/png": "[encoded data removed]",
      "text/plain": [
       "<matplotlib.figure.Figure at 0x7f1a53547630>"
      ]
     },
     "metadata": {},
     "output_type": "display_data"
    }
   ],
   "source": [
    "# Plot the predictions for a set of months\n",
    "months = np.linspace(1,90,100)\n",
    "# predict only one month out each time\n",
    "predictions = np.array([ar_results.predict(start=int(month), end=int(month), dynamic=True) for month in months])\n",
    "\n",
    "# Plot the actual data and the predicted data for each month\n",
    "fig, ax = plt.subplots(figsize=(12,6))\n",
    "ax.plot(assaults,color='b', label='Data');\n",
    "ax.scatter(months, predictions, color='r', label='Predictions');\n",
    "ax.legend();\n",
    "ax.set_xlabel('Months');\n",
    "ax.set_ylabel('Assaults');"
   ]
  },
  {
   "cell_type": "markdown",
   "metadata": {},
   "source": [
    "So you can see where errors are made; in high assault months we will tend to predict high assaults in the following month and for months with low assaults we predict low assaults in the following month. This doesn't work for extremely high or low values but it does ok for values near the mean."
   ]
  },
  {
   "cell_type": "code",
   "execution_count": 64,
   "metadata": {
    "collapsed": false
   },
   "outputs": [
    {
     "data": {
      "image/png": "[encoded data removed]",
      "text/plain": [
       "<matplotlib.figure.Figure at 0x7f1a5354d588>"
      ]
     },
     "metadata": {},
     "output_type": "display_data"
    }
   ],
   "source": [
    "fig,ax = plt.subplots(figsize=(8,4))\n",
    "ax.plot(ar_results.resid);\n",
    "ax.set_ylabel('Residuals');\n",
    "ax.set_xlabel('Months');"
   ]
  },
  {
   "cell_type": "markdown",
   "metadata": {},
   "source": [
    "Now that we know errors occur at the extreme values or rapid changes in assaults we can see how good of a fit we are doing over-all."
   ]
  },
  {
   "cell_type": "code",
   "execution_count": 65,
   "metadata": {
    "collapsed": false
   },
   "outputs": [
    {
     "name": "stdout",
     "output_type": "stream",
     "text": [
      "Mean Forecast Error is: -8.01311984526\n",
      "Absolute Error Rate is: 0.443591025477\n"
     ]
    }
   ],
   "source": [
    "# compute the mean absolute error\n",
    "def mean_absolute_err(y, yhat):\n",
    "    return np.abs(np.mean(np.mean((y[1:]-yhat))/yhat))\n",
    "\n",
    "# compute the mean forecasting error rate\n",
    "def mean_forecast_err(y,yhat):\n",
    "    return np.mean(y[1:]-yhat)\n",
    "\n",
    "all_predictions = ar_results.predict(dynamic=True)\n",
    "print('Mean Forecast Error is:', mean_forecast_err(assaults, all_predictions))\n",
    "print('Absolute Error Rate is:' ,mean_absolute_err(assaults, all_predictions))"
   ]
  },
  {
   "cell_type": "markdown",
   "metadata": {},
   "source": [
    "** The forecast error is positive meaning that we are undershooting the actual data but not by much. The absolute error is ~14%. So on any given month the model is within 14% of the actual number, though as we saw earlier our confidence in this number is low when we have very few or very many assaults. Also it is important to note that the AR(1) coeffecient was determined over the whole-data set --- so we are underestimating the error rate, since we are making predictions on data that has already been fit. A better way to be more accurate with this would be to perform a cross-validation procedure. **"
   ]
  },
  {
   "cell_type": "markdown",
   "metadata": {},
   "source": [
    "## Actionable Insights"
   ]
  },
  {
   "cell_type": "markdown",
   "metadata": {},
   "source": [
    "The AR(1), \"random walk\", model predicts the assualts in a given month based on the previous month's assaults in the M3 police beat. This monthly \"lag\", choice was made by determining the AIC information criteria and examining autocorrelation plots. The model fits well with about a 14% error rate in predicting the number of assaults that will occur in the following month. While the model fails to capture rapidly changing numbers of assaults in time, it correctly identifies the sustained monthly periods that have low or high numbers of assault."
   ]
  },
  {
   "cell_type": "code",
   "execution_count": null,
   "metadata": {
    "collapsed": true
   },
   "outputs": [],
   "source": []
  }
 ],
 "metadata": {
  "kernelspec": {
   "display_name": "Python 3",
   "language": "python",
   "name": "python3"
  },
  "language_info": {
   "codemirror_mode": {
    "name": "ipython",
    "version": 3
   },
   "file_extension": ".py",
   "mimetype": "text/x-python",
   "name": "python",
   "nbconvert_exporter": "python",
   "pygments_lexer": "ipython3",
   "version": "3.5.2"
  }
 },
 "nbformat": 4,
 "nbformat_minor": 0
}
